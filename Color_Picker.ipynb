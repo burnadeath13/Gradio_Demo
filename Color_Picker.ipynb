{
  "nbformat": 4,
  "nbformat_minor": 0,
  "metadata": {
    "colab": {
      "name": "Color_Picker.ipynb",
      "provenance": [],
      "collapsed_sections": []
    },
    "kernelspec": {
      "name": "python3",
      "display_name": "Python 3"
    },
    "language_info": {
      "name": "python"
    }
  },
  "cells": [
    {
      "cell_type": "code",
      "execution_count": null,
      "metadata": {
        "id": "uHLCTg1G1KLO"
      },
      "outputs": [],
      "source": [
        "!pip install gradio"
      ]
    },
    {
      "cell_type": "code",
      "source": [
        "import gradio as gr"
      ],
      "metadata": {
        "id": "jFgvXnOU1W7Y"
      },
      "execution_count": null,
      "outputs": []
    },
    {
      "cell_type": "code",
      "source": [
        "import numpy as np"
      ],
      "metadata": {
        "id": "OKzCQnjQ14E4"
      },
      "execution_count": null,
      "outputs": []
    },
    {
      "cell_type": "code",
      "source": [
        "import os\n",
        "from PIL import Image, ImageColor"
      ],
      "metadata": {
        "id": "GjeveCq_16pX"
      },
      "execution_count": null,
      "outputs": []
    },
    {
      "cell_type": "code",
      "source": [
        "def change_color(icon, color):\n",
        "\n",
        "    \"\"\"\n",
        "    Function that given an icon in .png format changes its color\n",
        "    Args:\n",
        "        icon: Icon whose color needs to be changed.\n",
        "        color: Chosen color with which to edit the input icon.\n",
        "    Returns:\n",
        "        edited_image: Edited icon.\n",
        "    \"\"\"\n",
        "    img = icon.convert(\"LA\")\n",
        "    img = img.convert(\"RGBA\")\n",
        "    image_np = np.array(icon)\n",
        "    _, _, _, alpha = image_np.T\n",
        "    mask = alpha > 0\n",
        "    image_np[..., :-1][mask.T] = ImageColor.getcolor(color, \"RGB\")\n",
        "    edited_image = Image.fromarray(image_np)\n",
        "    return edited_image\n",
        "\n",
        "\n",
        "inputs = [\n",
        "    gr.Image(label=\"icon\", type=\"pil\", image_mode=\"RGBA\"),\n",
        "    gr.ColorPicker(label=\"color\"),\n",
        "]\n",
        "outputs = gr.Image(label=\"colored icon\")\n",
        "\n",
        "demo = gr.Interface(\n",
        "    fn=change_color,\n",
        "    inputs=inputs,\n",
        "    outputs=outputs,\n",
        "    \n",
        ")"
      ],
      "metadata": {
        "id": "Yg02DSBM2H9l"
      },
      "execution_count": null,
      "outputs": []
    },
    {
      "cell_type": "code",
      "source": [
        "\n",
        "if __name__ == \"__main__\":\n",
        "    demo.launch()"
      ],
      "metadata": {
        "colab": {
          "base_uri": "https://localhost:8080/",
          "height": 591
        },
        "id": "AiOWOGw02ZUT",
        "outputId": "3818159e-a915-40c1-ed1e-a1a50fdaf680"
      },
      "execution_count": null,
      "outputs": [
        {
          "output_type": "stream",
          "name": "stdout",
          "text": [
            "Colab notebook detected. To show errors in colab notebook, set `debug=True` in `launch()`\n",
            "Running on public URL: https://34272.gradio.app\n",
            "\n",
            "This share link expires in 72 hours. For free permanent hosting, check out Spaces (https://huggingface.co/spaces)\n"
          ]
        },
        {
          "output_type": "display_data",
          "data": {
            "text/plain": [
              "<IPython.core.display.HTML object>"
            ],
            "text/html": [
              "<div><iframe src=\"https://34272.gradio.app\" width=\"900\" height=\"500\" allow=\"autoplay; camera; microphone;\" frameborder=\"0\" allowfullscreen></iframe></div>"
            ]
          },
          "metadata": {}
        }
      ]
    }
  ]
}